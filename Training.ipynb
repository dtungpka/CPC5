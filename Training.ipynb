{
 "cells": [
  {
   "cell_type": "code",
   "execution_count": null,
   "metadata": {},
   "outputs": [],
   "source": [
    "import numpy as np\n",
    "import pandas as pd\n",
    "import matplotlib.pyplot as plt\n",
    "import os\n",
    "import json\n",
    "import time\n",
    "%matplotlib inline"
   ]
  },
  {
   "attachments": {},
   "cell_type": "markdown",
   "metadata": {},
   "source": [
    "### Load the data\n",
    "-------"
   ]
  },
  {
   "cell_type": "code",
   "execution_count": null,
   "metadata": {},
   "outputs": [],
   "source": [
    "details = json.loads(open(\"details.json\", \"r\").read())\n",
    "X_data_path = details['coin'] + \"_\" + details['prediction'] + \"_data.csv\"\n",
    "Y_data_path = details['coin'] + \"_\" + details['prediction'] + \"_data.csv\"\n",
    "\n",
    "X_data_df = pd.read_csv(X_data_path)\n",
    "Y_data_raw = pd.read_csv(Y_data_path)"
   ]
  },
  {
   "cell_type": "code",
   "execution_count": null,
   "metadata": {},
   "outputs": [],
   "source": [
    "#get only columns: open,\thigh,\tlow,\tclose\n",
    "X_data_df = X_data_df.iloc[:,2:12]\n",
    "Y_data_raw = Y_data_raw.iloc[:,2:12]\n",
    "\n",
    "#show data with each column is a different color\n",
    "X_data_df.iloc[:,0].plot(subplots=True, figsize=(20,10))\n"
   ]
  },
  {
   "cell_type": "code",
   "execution_count": null,
   "metadata": {},
   "outputs": [],
   "source": [
    "#to numpy \n",
    "X_data_raw = X_data_df.to_numpy()\n",
    "Y_data_raw = Y_data_raw.to_numpy()\n"
   ]
  },
  {
   "attachments": {},
   "cell_type": "markdown",
   "metadata": {},
   "source": [
    "### Calculate the true labels\n",
    "---------"
   ]
  },
  {
   "cell_type": "code",
   "execution_count": null,
   "metadata": {},
   "outputs": [],
   "source": [
    "labels = details['label']\n",
    "\n",
    "#open + close / 2\n",
    "Y_data = (Y_data_raw[:,0] + Y_data_raw[:,3]) / 2\n",
    "\n",
    "# Y_data[i] - Y_data[i-1]\n",
    "Y_data_diff = np.diff(Y_data)\n",
    "\n",
    "#calculate the percentage change\n",
    "Y_data = Y_data_diff / Y_data[:-1]\n",
    "\n",
    "#show the data\n",
    "plt.plot(Y_data)\n",
    "plt.show()\n"
   ]
  },
  {
   "cell_type": "code",
   "execution_count": null,
   "metadata": {},
   "outputs": [],
   "source": [
    "#Using k-means to cluster the data into 5 groups, scatter plot\n",
    "from sklearn.cluster import KMeans\n",
    "kmeans = KMeans(n_clusters=5, random_state=0).fit(Y_data.reshape(-1,1))\n",
    "plt.scatter(Y_data, np.zeros(Y_data.shape), c=kmeans.labels_, cmap='rainbow')\n",
    "plt.show()\n",
    "\n",
    "Y = kmeans.labels_"
   ]
  },
  {
   "attachments": {},
   "cell_type": "markdown",
   "metadata": {},
   "source": [
    "### Calculate the features\n",
    "---------"
   ]
  },
  {
   "attachments": {},
   "cell_type": "markdown",
   "metadata": {},
   "source": [
    "__Data cols:__\n",
    "1. open\n",
    "2. high\n",
    "3. low\n",
    "4. close\n",
    "5. volume\n",
    "6. close_time\n",
    "7. quote_volume\n",
    "8. trades\n",
    "9. taker_buy_volume\n",
    "10. taker_buy_quote_volume\n"
   ]
  },
  {
   "cell_type": "code",
   "execution_count": null,
   "metadata": {},
   "outputs": [],
   "source": [
    "PERIOD = 96\n",
    "#Open + High + Low + Close + Volume\n",
    "X = np.zeros((X_data_raw.shape[0] - PERIOD, 19))\n",
    "#First 5\n",
    "X[:,0:5] = X_data_raw[PERIOD:,0:5]\n",
    "\n",
    "#normalize Volume\n",
    "X[:,4] = X_data_raw[PERIOD:,4] / X_data_raw[PERIOD:,4].max()\n",
    "\n",
    "#SMA in span of 1 day. (96 point of data)\n",
    "sma = X_data_df.iloc[:,3].rolling(window=PERIOD).mean()[PERIOD:]\n",
    "X[:,5] = sma\n",
    "\n",
    "#EMA in span of 1 day. (96 point of data)\n",
    "#EMA on high\n",
    "ema = X_data_df.iloc[:,1].ewm(span=PERIOD).mean()[PERIOD:]\n",
    "X[:,6] = ema\n",
    "\n",
    "#RSI in span of 1 day. (96 point of data)\n",
    "delta = X_data_df.iloc[:,3].diff()\n",
    "A = delta.rolling(PERIOD).mean()\n",
    "\n",
    "# Calculate average gain and average loss\n",
    "AG = np.where(delta > 0, abs(A), 0 )\n",
    "AL =  np.where(delta < 0, abs(A), 1 )\n",
    "\n",
    "# Calculate RS and RSI\n",
    "RS = AG / AL\n",
    "RSI = 100 - (100 / (1 + RS))\n",
    "X[:,7] = RSI[PERIOD:]"
   ]
  },
  {
   "cell_type": "code",
   "execution_count": null,
   "metadata": {},
   "outputs": [],
   "source": [
    "#Boilinger Bands\n",
    "#Calculate the rolling mean and standard deviation\n",
    "rolling_mean = X_data_df.iloc[:,3].rolling(window=PERIOD).mean()[PERIOD:]\n",
    "rolling_std = X_data_df.iloc[:,3].rolling(window=PERIOD).std()[PERIOD:]\n",
    "\n",
    "#Calculate the upper and lower Bollinger Bands\n",
    "upper_band = rolling_mean + (rolling_std * 2)\n",
    "lower_band = rolling_mean - (rolling_std * 2)\n",
    "X[:,8] = upper_band\n",
    "X[:,9] = lower_band\n",
    "\n",
    "#MACD\n",
    "#Calculate the short term exponential moving average (EMA)\n",
    "ShortEMA = X_data_df.iloc[:,3].ewm(span=12, adjust=False).mean()[PERIOD:]\n",
    "\n",
    "#Calculate the long term exponential moving average (EMA)\n",
    "LongEMA = X_data_df.iloc[:,3].ewm(span=26, adjust=False).mean()[PERIOD:]\n",
    "\n",
    "#Calculate the MACD line\n",
    "MACD = ShortEMA - LongEMA\n",
    "X[:,10] = MACD\n",
    "\n",
    "#OBV\n",
    "#Calculate the On Balance Volume\n",
    "OBV = np.zeros(X_data_raw.shape[0] - PERIOD)\n",
    "OBV[0] = X_data_raw[PERIOD,4]\n",
    "for i in range(1, X_data_raw.shape[0] - PERIOD):\n",
    "    if X_data_raw[i + PERIOD,3] > X_data_raw[i + PERIOD - 1,3]:\n",
    "        OBV[i] = OBV[i-1] + X_data_raw[i + PERIOD,4]\n",
    "    elif X_data_raw[i + PERIOD,3] < X_data_raw[i + PERIOD - 1,3]:\n",
    "        OBV[i] = OBV[i-1] - X_data_raw[i + PERIOD,4]\n",
    "    else:\n",
    "        OBV[i] = OBV[i-1]\n",
    "X[:,11] = OBV\n",
    "\n",
    "#normalize OBV\n",
    "X[:,11] = X[:,11] / X[:,11].max()\n",
    "\n",
    "\n",
    "#ADX\n",
    "#Calculate the True Range\n",
    "TR = np.zeros(X_data_raw.shape[0])\n",
    "for i in range(1, X_data_raw.shape[0] ):\n",
    "    TR[i] = max(X_data_raw[i ,1] - X_data_raw[i ,2], abs(X_data_raw[i ,1] - X_data_raw[i  - 1,3]), abs(X_data_raw[i ,2] - X_data_raw[i  - 1,3]))\n",
    "\n",
    "#Calculate the Positive Directional Indicator and Negative Directional Indicator\n",
    "PDI = np.zeros(X_data_raw.shape[0] )\n",
    "NDI = np.zeros(X_data_raw.shape[0] )\n",
    "for i in range(1, X_data_raw.shape[0] ):\n",
    "    PDI[i] = 100 * (X_data_raw[i ,1] - X_data_raw[i  - 1,3]) / TR[i]\n",
    "    NDI[i] = 100 * (X_data_raw[i  - 1,3] - X_data_raw[i ,2]) / TR[i]\n",
    "\n",
    "#Calculate the Average Directional Movement Index\n",
    "PDI = pd.DataFrame(PDI).ewm(span=14).mean()\n",
    "NDI = pd.DataFrame(NDI).ewm(span=14).mean()\n",
    "DX = 100 * abs(PDI - NDI) / (PDI + NDI)\n",
    "ADX = pd.DataFrame(DX).ewm(span=14).mean()\n",
    "X[:,12] = ADX[PERIOD:].to_numpy().reshape(X.shape[0])\n",
    "\n",
    "#normalize ADX\n",
    "X[:,12] = X[:,12] / X[:,12].max()\n",
    "\n",
    "#ATR\n",
    "#Use the above TR\n",
    "ATR = pd.DataFrame(TR).ewm(span=14).mean()\n",
    "X[:,13] = ATR[PERIOD:].to_numpy().reshape(X.shape[0])\n"
   ]
  },
  {
   "cell_type": "code",
   "execution_count": null,
   "metadata": {},
   "outputs": [],
   "source": [
    "#Fibonacci Retracement\n",
    "#Calculate the Fibonacci Retracement\n",
    "Fibonacci = np.zeros((X_data_raw.shape[0] - PERIOD, 5))\n",
    "Fibonacci[:,0] = X_data_raw[PERIOD:,3] - X_data_raw[PERIOD:,2]\n",
    "Fibonacci[:,1] = X_data_raw[PERIOD:,1] - X_data_raw[PERIOD:,3]\n",
    "Fibonacci[:,2] = X_data_raw[PERIOD:,1] - X_data_raw[PERIOD:,2]\n",
    "Fibonacci[:,3] = X_data_raw[PERIOD:,3] - X_data_raw[PERIOD:,0]\n",
    "Fibonacci[:,4] = X_data_raw[PERIOD:,1] - X_data_raw[PERIOD:,0]\n",
    "\n",
    "#normalize Fibonacci\n",
    "Fibonacci = Fibonacci / Fibonacci.max()\n",
    "\n",
    "X[:,14:19] = Fibonacci\n"
   ]
  },
  {
   "cell_type": "code",
   "execution_count": null,
   "metadata": {},
   "outputs": [],
   "source": [
    "Y = Y[PERIOD-1:]\n",
    "\n",
    "l = X.shape[0]\n",
    "\n",
    "#only use half of the data\n",
    "X = X[:l//2]\n",
    "Y = Y[:l//2]\n",
    "\n",
    "\n",
    "Y_ = np.zeros((Y.shape[0],5))\n",
    "for i in range(Y.shape[0]):\n",
    "    if Y[i] == 0:\n",
    "        Y_[i,0] = 1\n",
    "    elif Y[i] == 1:\n",
    "        Y_[i,1] = 1\n",
    "    elif Y[i] == 2:\n",
    "        Y_[i,2] = 1\n",
    "    elif Y[i] == 3:\n",
    "        Y_[i,3] = 1\n",
    "    elif Y[i] == 4:\n",
    "        Y_[i,4] = 1\n",
    "Y = Y_\n",
    "#split data into train and test\n",
    "from sklearn.model_selection import train_test_split\n",
    "X_train, X_test, y_train, y_test = train_test_split(X, Y, test_size=0.2, random_state=42)\n"
   ]
  },
  {
   "cell_type": "code",
   "execution_count": null,
   "metadata": {},
   "outputs": [],
   "source": [
    "class KNearestNeighbor():\n",
    "    def __init__(self):\n",
    "        pass\n",
    "\n",
    "    def train(self, X, y):\n",
    "        self.X_train = X\n",
    "        self.y_train = y\n",
    "\n",
    "    def predict(self, X, distance_function, predict_function, k=1):\n",
    "        dists  = distance_function(self.X_train, X)\n",
    "        labels = predict_function(self.y_train, dists, k=k)\n",
    "        return labels\n",
    "    \n",
    "    @staticmethod\n",
    "    def evaluate(y_test_pred, y_test, isprint=True):\n",
    "        num_test = len(y_test.flatten())\n",
    "        num_correct = np.sum(y_test_pred.flatten() == y_test.flatten())\n",
    "        accuracy = float(num_correct) / num_test\n",
    "        if isprint: print('Got %d / %d correct => accuracy: %f' % (num_correct, num_test, accuracy))\n",
    "        return accuracy\n",
    "\n",
    "classifier = KNearestNeighbor()\n",
    "classifier.train(X_train, y_train)"
   ]
  },
  {
   "cell_type": "code",
   "execution_count": null,
   "metadata": {},
   "outputs": [],
   "source": [
    "num_test = X_test.shape[0]\n",
    "def compute_distances_no_loop(X_train, X_test):\n",
    "    result_mtx = np.sqrt(np.sum(X_test**2, axis=1, keepdims=True) + np.sum(X_train**2, axis=1) - 2 * X_test.dot(X_train.T))\n",
    "    \n",
    "    return result_mtx\n",
    "def predict_labels(y_train, dist, k=1):\n",
    "    result_mtx = np.argsort(dists_no, axis=1)[:, :k]\n",
    "    result = []\n",
    "    for i in range(num_test):\n",
    "        result.append(np.bincount(y_train[result_mtx[i]]).argmax())\n",
    "        \n",
    "    return np.array(result)\n",
    "\n",
    "# Test your implementation\n",
    "dists_no = compute_distances_no_loop(X_train, X_test)\n",
    "print(\"Train:\", X_train.shape, \"Test:\",X_test.shape, \"Result:\",dists_no.shape)\n",
    "\n",
    "y_test_pred = predict_labels(y_train, dists_no, k=1)\n",
    "classifier.evaluate(y_test_pred, y_test)"
   ]
  },
  {
   "cell_type": "code",
   "execution_count": null,
   "metadata": {},
   "outputs": [],
   "source": []
  }
 ],
 "metadata": {
  "kernelspec": {
   "display_name": "Python 3",
   "language": "python",
   "name": "python3"
  },
  "language_info": {
   "codemirror_mode": {
    "name": "ipython",
    "version": 3
   },
   "file_extension": ".py",
   "mimetype": "text/x-python",
   "name": "python",
   "nbconvert_exporter": "python",
   "pygments_lexer": "ipython3",
   "version": "3.9.13"
  },
  "orig_nbformat": 4,
  "vscode": {
   "interpreter": {
    "hash": "0d591c6e422414675974e227c13f5382000c440fedd3c5006ef2be5d887f0ba7"
   }
  }
 },
 "nbformat": 4,
 "nbformat_minor": 2
}
